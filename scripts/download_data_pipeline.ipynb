{
 "cells": [
  {
   "cell_type": "code",
   "execution_count": null,
   "metadata": {},
   "outputs": [],
   "source": [
    "\"\"\"This script downloads and processes the entire dataset\"\"\"\n",
    "\n",
    "%load_ext autoreload\n",
    "%autoreload 2\n",
    "\n",
    "from prompt_systematic_review.download_arxiv_query import query_archive\n",
    "from prompt_systematic_review.run_semantic_scholar import query_semantic_scholar\n",
    "from prompt_systematic_review.arxiv_source\n",
    "from prompt_systematic_review.semantic_scholar_source import \n",
    "import pandas as pd\n",
    "\n",
    "from prompt_systematic_review.utils import process_paper_title"
   ]
  },
  {
   "cell_type": "code",
   "execution_count": null,
   "metadata": {},
   "outputs": [],
   "source": [
    "# download CSV of arXiv results\n",
    "arxiv_df = query_archive(verbose=True)"
   ]
  },
  {
   "cell_type": "code",
   "execution_count": null,
   "metadata": {},
   "outputs": [],
   "source": [
    "# clean arXiv CSV\n",
    "arxiv_df[\"title\"] = arxiv_df[\"title\"].apply(lambda x: process_paper_title(x))\n",
    "arxiv_df[\"source\"] = \"arXiv\"\n",
    "len(arxiv_df)"
   ]
  },
  {
   "cell_type": "code",
   "execution_count": null,
   "metadata": {},
   "outputs": [],
   "source": [
    "# download CSV of Semantic Scholar\n",
    "semantic_scholar_df = query_semantic_scholar(verbose=True)"
   ]
  },
  {
   "cell_type": "code",
   "execution_count": null,
   "metadata": {},
   "outputs": [],
   "source": [
    "# clean Semantic CSV\n",
    "semantic_scholar_df[\"title\"] = semantic_scholar_df[\"title\"].apply(lambda x: process_paper_title(x))\n",
    "semantic_scholar_df[\"source\"] = \"Semantic Scholar\"\n",
    "len(semantic_scholar_df)"
   ]
  },
  {
   "cell_type": "code",
   "execution_count": null,
   "metadata": {},
   "outputs": [],
   "source": [
    "# combine dfs\n",
    "combined_df = pd.concat([semantic_scholar_df, arxiv_df])\n",
    "len(combined_df)"
   ]
  },
  {
   "cell_type": "code",
   "execution_count": null,
   "metadata": {},
   "outputs": [],
   "source": [
    "# Deduplicate\n",
    "deduplicated_df = combined_df.drop_duplicates(subset='title')\n",
    "len(deduplicated_df)\n",
    "deduplicated_df"
   ]
  },
  {
   "cell_type": "code",
   "execution_count": null,
   "metadata": {},
   "outputs": [],
   "source": [
    "# download all papers\n",
    "from prompt_systematic_review.semantic_scholar_source import getPaperSrc\n",
    "\n",
    "for i, row in tqdm(deduplicated_df):\n",
    "    print(row)"
   ]
  },
  {
   "cell_type": "code",
   "execution_count": null,
   "metadata": {},
   "outputs": [],
   "source": [
    "arxiv_df"
   ]
  }
 ],
 "metadata": {
  "kernelspec": {
   "display_name": "prompt_survey",
   "language": "python",
   "name": "python3"
  },
  "language_info": {
   "codemirror_mode": {
    "name": "ipython",
    "version": 3
   },
   "file_extension": ".py",
   "mimetype": "text/x-python",
   "name": "python",
   "nbconvert_exporter": "python",
   "pygments_lexer": "ipython3",
   "version": "3.10.13"
  }
 },
 "nbformat": 4,
 "nbformat_minor": 2
}
