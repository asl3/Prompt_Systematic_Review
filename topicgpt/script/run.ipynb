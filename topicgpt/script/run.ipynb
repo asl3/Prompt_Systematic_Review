{
 "cells": [
  {
   "cell_type": "code",
   "execution_count": null,
   "metadata": {},
   "outputs": [],
   "source": [
    "import pandas as pd\n",
    "from utils import *\n",
    "import os\n",
    "import matplotlib.pyplot as plt\n",
    "import seaborn as sns\n",
    "import textwrap\n",
    "sns.set_style('whitegrid')\n",
    "plt.rcParams.update({'font.size': 17})"
   ]
  },
  {
   "cell_type": "markdown",
   "metadata": {},
   "source": [
    "## Generation"
   ]
  },
  {
   "cell_type": "code",
   "execution_count": null,
   "metadata": {},
   "outputs": [],
   "source": [
    "## Generation I/O\n",
    "data_file = \"../data/master_papers.jsonl\"\n",
    "generation_prompt = \"../prompt/generation_1.txt\"\n",
    "seed_1 = \"../prompt/seed_1.md\"\n",
    "generation_out = \"../data/generation_1_paper.jsonl\"\n",
    "generation_topic = \"../data/master_paper.md\""
   ]
  },
  {
   "cell_type": "code",
   "execution_count": null,
   "metadata": {
    "vscode": {
     "languageId": "shellscript"
    }
   },
   "outputs": [],
   "source": [
    "%run generation_1.py --deployment_name gpt-4-1106-preview \\\n",
    "                    --max_tokens 300 --temperature 0.0 --top_p 0.0 \\\n",
    "                    --data $data_file \\\n",
    "                    --prompt_file $generation_prompt \\\n",
    "                    --seed_file $seed_1 \\\n",
    "                    --out_file $generation_out \\\n",
    "                    --topic_file $generation_topic \\\n",
    "                    --verbose True"
   ]
  },
  {
   "cell_type": "markdown",
   "metadata": {},
   "source": [
    "## Filtering"
   ]
  },
  {
   "cell_type": "code",
   "execution_count": null,
   "metadata": {},
   "outputs": [],
   "source": [
    "tree, nodes = generate_tree(read_seed(\"../data/master_paper.md\"))\n",
    "print(tree_view(tree))"
   ]
  },
  {
   "cell_type": "code",
   "execution_count": null,
   "metadata": {},
   "outputs": [],
   "source": [
    "topic_count = sum([node.count for node in tree.descendants])\n",
    "threshold = 5\n",
    "for node in tree.descendants: \n",
    "    if node.count < threshold and node.lvl==1: \n",
    "        print(f\"Removing {node.name} ({node.count} counts)\")\n",
    "        node.parent = None\n",
    "        nodes.remove(node)"
   ]
  },
  {
   "cell_type": "markdown",
   "metadata": {},
   "source": [
    "## Visualization"
   ]
  },
  {
   "cell_type": "code",
   "execution_count": null,
   "metadata": {},
   "outputs": [],
   "source": [
    "topics = [node.name for node in nodes]\n",
    "counts = [node.count for node in nodes]\n",
    "sorted_topics, sorted_counts = zip(*sorted([(t, c) for t, c in zip(topics, counts)], key=lambda x: x[1], reverse=True))\n",
    "plt.figure(figsize=(10, 20))\n",
    "sns.barplot(x=sorted_counts, y=sorted_topics, color='purple')\n",
    "plt.xlabel('Number of papers')\n",
    "plt.title('Topic distribution')\n",
    "plt.tight_layout()\n",
    "plt.savefig('../data/topic_distribution.png')\n",
    "plt.show()"
   ]
  }
 ],
 "metadata": {
  "kernelspec": {
   "display_name": "Python 3",
   "language": "python",
   "name": "python3"
  },
  "language_info": {
   "codemirror_mode": {
    "name": "ipython",
    "version": 3
   },
   "file_extension": ".py",
   "mimetype": "text/x-python",
   "name": "python",
   "nbconvert_exporter": "python",
   "pygments_lexer": "ipython3",
   "version": "3.11.4"
  }
 },
 "nbformat": 4,
 "nbformat_minor": 2
}
